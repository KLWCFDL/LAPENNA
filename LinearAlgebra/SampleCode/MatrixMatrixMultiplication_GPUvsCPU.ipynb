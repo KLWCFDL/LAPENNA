{
  "nbformat": 4,
  "nbformat_minor": 0,
  "metadata": {
    "colab": {
      "provenance": []
    },
    "kernelspec": {
      "name": "python3",
      "display_name": "Python 3"
    },
    "accelerator": "GPU"
  },
  "cells": [
    {
      "cell_type": "code",
      "metadata": {
        "colab": {
          "base_uri": "https://localhost:8080/"
        },
        "id": "9B1BULDj5Z4y",
        "outputId": "04a7afbc-1acc-41c8-afcb-25c385738783"
      },
      "source": [
        "!more /proc/cpuinfo"
      ],
      "execution_count": null,
      "outputs": [
        {
          "output_type": "stream",
          "name": "stdout",
          "text": [
            "processor\t: 0\n",
            "vendor_id\t: GenuineIntel\n",
            "cpu family\t: 6\n",
            "model\t\t: 79\n",
            "model name\t: Intel(R) Xeon(R) CPU @ 2.20GHz\n",
            "stepping\t: 0\n",
            "microcode\t: 0x1\n",
            "cpu MHz\t\t: 2199.998\n",
            "cache size\t: 56320 KB\n",
            "physical id\t: 0\n",
            "siblings\t: 2\n",
            "core id\t\t: 0\n",
            "cpu cores\t: 1\n",
            "apicid\t\t: 0\n",
            "initial apicid\t: 0\n",
            "fpu\t\t: yes\n",
            "fpu_exception\t: yes\n",
            "cpuid level\t: 13\n",
            "wp\t\t: yes\n",
            "flags\t\t: fpu vme de pse tsc msr pae mce cx8 apic sep mtrr pge mca cmov \n",
            "pat pse36 clflush mmx fxsr sse sse2 ss ht syscall nx pdpe1gb rdtscp lm constant_\n",
            "tsc rep_good nopl xtopology nonstop_tsc cpuid tsc_known_freq pni pclmulqdq ssse3\n",
            " fma cx16 pcid sse4_1 sse4_2 x2apic movbe popcnt aes xsave avx f16c rdrand hyper\n",
            "\u001b[K"
          ]
        }
      ]
    },
    {
      "cell_type": "code",
      "metadata": {
        "id": "oe5qf_6r5cVZ",
        "colab": {
          "base_uri": "https://localhost:8080/"
        },
        "outputId": "b4ae4880-1a4d-4ce1-bbb8-c5b5bc3330d2"
      },
      "source": [
        "!more /proc/meminfo"
      ],
      "execution_count": null,
      "outputs": [
        {
          "output_type": "stream",
          "text": [
            "MemTotal:       13333596 kB\n",
            "MemFree:        10326776 kB\n",
            "MemAvailable:   12488284 kB\n",
            "Buffers:           90544 kB\n",
            "Cached:          2218316 kB\n",
            "SwapCached:            0 kB\n",
            "Active:           738536 kB\n",
            "Inactive:        1961640 kB\n",
            "Active(anon):     363944 kB\n",
            "Inactive(anon):      376 kB\n",
            "Active(file):     374592 kB\n",
            "Inactive(file):  1961264 kB\n",
            "Unevictable:           0 kB\n",
            "Mlocked:               0 kB\n",
            "SwapTotal:             0 kB\n",
            "SwapFree:              0 kB\n",
            "Dirty:               304 kB\n",
            "Writeback:             0 kB\n",
            "AnonPages:        391344 kB\n",
            "Mapped:           211328 kB\n",
            "Shmem:              1032 kB\n",
            "Slab:             175648 kB\n",
            "SReclaimable:     132736 kB\n",
            "\u001b[K"
          ],
          "name": "stdout"
        }
      ]
    },
    {
      "cell_type": "code",
      "metadata": {
        "colab": {
          "base_uri": "https://localhost:8080/"
        },
        "id": "uc_F2CFV5dva",
        "outputId": "85a1d761-7e0e-488d-8c32-ea194a0ad228"
      },
      "source": [
        "!nvidia-smi"
      ],
      "execution_count": null,
      "outputs": [
        {
          "output_type": "stream",
          "name": "stdout",
          "text": [
            "Fri Feb 18 01:16:37 2022       \n",
            "+-----------------------------------------------------------------------------+\n",
            "| NVIDIA-SMI 460.32.03    Driver Version: 460.32.03    CUDA Version: 11.2     |\n",
            "|-------------------------------+----------------------+----------------------+\n",
            "| GPU  Name        Persistence-M| Bus-Id        Disp.A | Volatile Uncorr. ECC |\n",
            "| Fan  Temp  Perf  Pwr:Usage/Cap|         Memory-Usage | GPU-Util  Compute M. |\n",
            "|                               |                      |               MIG M. |\n",
            "|===============================+======================+======================|\n",
            "|   0  Tesla T4            Off  | 00000000:00:04.0 Off |                    0 |\n",
            "| N/A   37C    P8     9W /  70W |      0MiB / 15109MiB |      0%      Default |\n",
            "|                               |                      |                  N/A |\n",
            "+-------------------------------+----------------------+----------------------+\n",
            "                                                                               \n",
            "+-----------------------------------------------------------------------------+\n",
            "| Processes:                                                                  |\n",
            "|  GPU   GI   CI        PID   Type   Process name                  GPU Memory |\n",
            "|        ID   ID                                                   Usage      |\n",
            "|=============================================================================|\n",
            "|  No running processes found                                                 |\n",
            "+-----------------------------------------------------------------------------+\n"
          ]
        }
      ]
    },
    {
      "cell_type": "code",
      "metadata": {
        "colab": {
          "base_uri": "https://localhost:8080/"
        },
        "id": "DykAkG405nPD",
        "outputId": "b6b9e455-d157-438c-958e-6de1b9874e5d"
      },
      "source": [
        "!nvcc --version"
      ],
      "execution_count": null,
      "outputs": [
        {
          "output_type": "stream",
          "text": [
            "nvcc: NVIDIA (R) Cuda compiler driver\n",
            "Copyright (c) 2005-2019 NVIDIA Corporation\n",
            "Built on Sun_Jul_28_19:07:16_PDT_2019\n",
            "Cuda compilation tools, release 10.1, V10.1.243\n"
          ],
          "name": "stdout"
        }
      ]
    },
    {
      "cell_type": "code",
      "metadata": {
        "colab": {
          "base_uri": "https://localhost:8080/"
        },
        "id": "rUmhvtbz7HUi",
        "outputId": "276b0854-a4ab-4332-8d5c-990fe3aa862d"
      },
      "source": [
        "!more /proc/driver/nvidia/version"
      ],
      "execution_count": null,
      "outputs": [
        {
          "output_type": "stream",
          "text": [
            "NVRM version: NVIDIA UNIX x86_64 Kernel Module  418.67  Sat Apr  6 03:07:24 CDT \n",
            "2019\n",
            "GCC version:  Selected multilib: .;@m64\n"
          ],
          "name": "stdout"
        }
      ]
    },
    {
      "cell_type": "code",
      "metadata": {
        "id": "fBrENPRV8Ybi",
        "colab": {
          "base_uri": "https://localhost:8080/"
        },
        "outputId": "0cb96bd1-7df3-467d-ac69-c5762ccea898"
      },
      "source": [
        "# CPU\n",
        "\n",
        "import numpy as np\n",
        "import time\n",
        "n = 10000\n",
        "a = np.random.rand(n,n)\n",
        "b = np.random.rand(n,n)\n",
        "start_time = time.time()\n",
        "np.matmul(a,b)\n",
        "\n",
        "print(f\"{time.time() - start_time} seconds.\" )"
      ],
      "execution_count": null,
      "outputs": [
        {
          "output_type": "stream",
          "text": [
            "46.92603325843811 seconds.\n"
          ],
          "name": "stdout"
        }
      ]
    },
    {
      "cell_type": "code",
      "metadata": {
        "id": "nzl7__Ps-DK8",
        "colab": {
          "base_uri": "https://localhost:8080/"
        },
        "outputId": "c1fef7e9-f222-4d9e-c6b1-331c3747d68c"
      },
      "source": [
        "# GPU\n",
        "\n",
        "!pip install pycuda scikit-cuda\n",
        "\n",
        "import pycuda.gpuarray as gpuarray\n",
        "import numpy as np\n",
        "import skcuda.linalg as linalg\n",
        "import time\n",
        "\n",
        "# --- Initializations\n",
        "import pycuda.autoinit\n",
        "linalg.init()\n",
        "n = 10000\n",
        "\n",
        "A = np.random.rand(n,n)\n",
        "B = np.random.rand(n,n)\n",
        "\n",
        "A_gpu = gpuarray.to_gpu(A)\n",
        "B_gpu = gpuarray.to_gpu(B)\n",
        "start_time = time.time()\n",
        "C_gpu = linalg.dot(A_gpu, B_gpu)\n",
        "\n",
        "print(f\"{time.time() - start_time} seconds.\")"
      ],
      "execution_count": null,
      "outputs": [
        {
          "output_type": "stream",
          "text": [
            "Requirement already satisfied: pycuda in /usr/local/lib/python3.6/dist-packages (2020.1)\n",
            "Requirement already satisfied: scikit-cuda in /usr/local/lib/python3.6/dist-packages (0.5.3)\n",
            "Requirement already satisfied: appdirs>=1.4.0 in /usr/local/lib/python3.6/dist-packages (from pycuda) (1.4.4)\n",
            "Requirement already satisfied: decorator>=3.2.0 in /usr/local/lib/python3.6/dist-packages (from pycuda) (4.4.2)\n",
            "Requirement already satisfied: pytools>=2011.2 in /usr/local/lib/python3.6/dist-packages (from pycuda) (2021.1)\n",
            "Requirement already satisfied: mako in /usr/local/lib/python3.6/dist-packages (from pycuda) (1.1.4)\n",
            "Requirement already satisfied: numpy>=1.2.0 in /usr/local/lib/python3.6/dist-packages (from scikit-cuda) (1.19.5)\n",
            "Requirement already satisfied: dataclasses>=0.7; python_version <= \"3.6\" in /usr/local/lib/python3.6/dist-packages (from pytools>=2011.2->pycuda) (0.8)\n",
            "Requirement already satisfied: MarkupSafe>=0.9.2 in /usr/local/lib/python3.6/dist-packages (from mako->pycuda) (1.1.1)\n",
            "7.96970534324646 seconds.\n"
          ],
          "name": "stdout"
        }
      ]
    }
  ]
}