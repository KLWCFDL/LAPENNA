{
  "nbformat": 4,
  "nbformat_minor": 0,
  "metadata": {
    "colab": {
      "provenance": []
    },
    "kernelspec": {
      "name": "python3",
      "display_name": "Python 3"
    }
  },
  "cells": [
    {
      "cell_type": "code",
      "metadata": {
        "colab": {
          "base_uri": "https://localhost:8080/"
        },
        "id": "tKcK4R9oUqyv",
        "outputId": "70fc432a-d340-460d-e8bd-75138d973dea"
      },
      "source": [
        "!hostname"
      ],
      "execution_count": 1,
      "outputs": [
        {
          "output_type": "stream",
          "name": "stdout",
          "text": [
            "ce585e59ef91\n"
          ]
        }
      ]
    },
    {
      "cell_type": "code",
      "metadata": {
        "id": "hnYTDprFpqih"
      },
      "source": [
        "# e constant\n",
        "e = 2.7182818284\n",
        "# initial values\n",
        "i1 = 0.05\n",
        "i2 = 0.10\n",
        "# initial weights\n",
        "w1 = 0.15\n",
        "w2 = 0.20\n",
        "w3 = 0.25\n",
        "w4 = 0.30\n",
        "w5 = 0.40\n",
        "w6 = 0.45\n",
        "w7 = 0.50\n",
        "w8 = 0.55\n",
        "# bias\n",
        "b1 = 0.35\n",
        "b2 = 0.60\n",
        "# targets\n",
        "To1 = 0.01\n",
        "To2 = 0.99"
      ],
      "execution_count": 2,
      "outputs": []
    },
    {
      "cell_type": "code",
      "metadata": {
        "colab": {
          "base_uri": "https://localhost:8080/"
        },
        "id": "Es4Ul7FDqsnV",
        "outputId": "a7eb1c51-bc30-4f62-be2e-26e1c235b2b2"
      },
      "source": [
        "# forward propagation\n",
        "h1 = 1/(1+e**(-(w1*i1 + w2*i2+b1)))\n",
        "print(\"h1: \" + str(h1))\n",
        "\n",
        "h2 = 1/(1+e**(-(w3*i1 + w4*i2+b1)))\n",
        "print(\"h2: \" + str(h2))\n",
        "\n",
        "o1 = 1/(1+e**(-(w5*h1 + w6*h2+b2)))\n",
        "print(\"o1: \" + str(o1))\n",
        "\n",
        "o2 = 1/(1+e**(-(w7*h1 + w8*h2+b2)))\n",
        "print(\"o2: \" + str(o2))"
      ],
      "execution_count": 3,
      "outputs": [
        {
          "output_type": "stream",
          "name": "stdout",
          "text": [
            "h1: 0.5932699921052087\n",
            "h2: 0.5968843782577157\n",
            "o1: 0.7513650695475076\n",
            "o2: 0.772928465316421\n"
          ]
        }
      ]
    },
    {
      "cell_type": "code",
      "metadata": {
        "colab": {
          "base_uri": "https://localhost:8080/"
        },
        "id": "JBcuq5nluPMB",
        "outputId": "d9671251-582d-41e6-ed7c-41ee7bb1810e"
      },
      "source": [
        "# Error\n",
        "Eo1 = 0.5*(To1-o1)**2\n",
        "print(\"Error o1: \" + str(Eo1))\n",
        "Eo2 = 0.5*(To2-o2)**2\n",
        "print(\"Error o2: \" + str(Eo2))\n",
        "\n",
        "E = Eo1 + Eo2\n",
        "print(\"Total Error: \" + str(E))"
      ],
      "execution_count": 4,
      "outputs": [
        {
          "output_type": "stream",
          "name": "stdout",
          "text": [
            "Error o1: 0.2748110831725904\n",
            "Error o2: 0.023560025584942117\n",
            "Total Error: 0.29837110875753253\n"
          ]
        }
      ]
    },
    {
      "cell_type": "code",
      "metadata": {
        "colab": {
          "base_uri": "https://localhost:8080/"
        },
        "id": "e0Vic461vM7m",
        "outputId": "8479c135-5124-457d-bfb9-bdd94bd017cf"
      },
      "source": [
        "# Backpropagation\n",
        "n = 0.5\n",
        "\n",
        "grad_o1 = o1 - To1\n",
        "grad_o2 = o2 - To2\n",
        "\n",
        "print(\"grad_o1: \"+str(grad_o1))\n",
        "print(\"grad_o2: \"+str(grad_o2))\n",
        "\n",
        "grad_d1 = (grad_o1)*o1*(1-o1)\n",
        "grad_d2 = (grad_o2)*o2*(1-o2)\n",
        "\n",
        "print(\"grad_d1: \"+str(grad_d1))\n",
        "print(\"grad_d2: \"+str(grad_d2))\n",
        "\n",
        "grad_w5 = grad_d1*h1\n",
        "print(\"grad_w5: \"+str(grad_w5))\n",
        "\n",
        "w5_final = w5 - n*grad_w5\n",
        "\n",
        "grad_w6 = grad_d1*h2\n",
        "print(\"grad_w6: \"+str(grad_w6))\n",
        "w6_final = w6 - n*grad_w6\n",
        "\n",
        "grad_w7 = grad_d2*h1\n",
        "print(\"grad_w7: \"+str(grad_w7))\n",
        "w7_final = w7 - n*grad_w7\n",
        "\n",
        "grad_w8 = grad_d2*h2\n",
        "print(\"grad_w8: \"+str(grad_w8))\n",
        "w8_final = w8 - n*grad_w8\n",
        "\n",
        "\n",
        "grad_h1 = w5*grad_d1 + w7*grad_d2\n",
        "print(\"grad_h1: \"+str(grad_h1))\n",
        "grad_d11 = grad_h1*h1*(1-h1)\n",
        "print(\"grad_d11: \"+str(grad_d11))\n",
        "\n",
        "grad_w1 = grad_d11*i1\n",
        "print(\"grad_w1: \"+str(grad_w1))\n",
        "w1_final = w1 - n*grad_w1\n",
        "\n",
        "grad_w2 = grad_d11*i1\n",
        "print(\"grad_w2: \"+str(grad_w2))\n",
        "w2_final = w2 - n*grad_w2\n",
        "\n",
        "\n",
        "grad_h2 = w6*grad_d1 + w8*grad_d2\n",
        "print(\"grad_h2: \"+str(grad_h2))\n",
        "grad_d22 = grad_h2*h2*(1-h2)\n",
        "print(\"grad_d22: \"+str(grad_d22))\n",
        "\n",
        "grad_w3 = grad_d22*i1\n",
        "print(\"grad_w3: \"+str(grad_w3))\n",
        "w3_final = w3 - n*grad_w3\n",
        "\n",
        "grad_w4 = grad_d22*i2\n",
        "print(\"grad_w4: \"+str(grad_w4))\n",
        "w4_final = w4 - n*grad_w4\n",
        "\n",
        "print(\"w1+: \"+str(w1_final))\n",
        "print(\"w2+: \"+str(w2_final))\n",
        "print(\"w3+: \"+str(w3_final))\n",
        "print(\"w4+: \"+str(w4_final))\n",
        "print(\"w5+: \"+str(w5_final))\n",
        "print(\"w6+: \"+str(w6_final))\n",
        "print(\"w7+: \"+str(w7_final))\n",
        "print(\"w8+: \"+str(w8_final))"
      ],
      "execution_count": 5,
      "outputs": [
        {
          "output_type": "stream",
          "name": "stdout",
          "text": [
            "grad_o1: 0.7413650695475076\n",
            "grad_o2: -0.21707153468357898\n",
            "grad_d1: 0.13849856162945076\n",
            "grad_d2: -0.03809823651803844\n",
            "grad_w5: 0.08216704056448701\n",
            "grad_w6: 0.08266762784778263\n",
            "grad_w7: -0.02260254047827904\n",
            "grad_w8: -0.02274024221678477\n",
            "grad_h1: 0.036350306392761086\n",
            "grad_d11: 0.00877135468940779\n",
            "grad_w1: 0.0004385677344703895\n",
            "grad_w2: 0.0004385677344703895\n",
            "grad_h2: 0.04137032264833171\n",
            "grad_d22: 0.009954254705134271\n",
            "grad_w3: 0.0004977127352567136\n",
            "grad_w4: 0.0009954254705134271\n",
            "w1+: 0.1497807161327648\n",
            "w2+: 0.19978071613276482\n",
            "w3+: 0.24975114363237164\n",
            "w4+: 0.29950228726474326\n",
            "w5+: 0.35891647971775653\n",
            "w6+: 0.4086661860761087\n",
            "w7+: 0.5113012702391395\n",
            "w8+: 0.5613701211083925\n"
          ]
        }
      ]
    }
  ]
}