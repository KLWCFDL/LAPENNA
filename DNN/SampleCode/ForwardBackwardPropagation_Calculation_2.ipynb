{
  "nbformat": 4,
  "nbformat_minor": 0,
  "metadata": {
    "colab": {
      "provenance": []
    },
    "kernelspec": {
      "name": "python3",
      "display_name": "Python 3"
    }
  },
  "cells": [
    {
      "cell_type": "code",
      "metadata": {
        "colab": {
          "base_uri": "https://localhost:8080/"
        },
        "id": "tKcK4R9oUqyv",
        "outputId": "441d8beb-eb96-456a-870a-0fd01a6cae06"
      },
      "source": [
        "!hostname\n",
        "import numpy as np"
      ],
      "execution_count": null,
      "outputs": [
        {
          "output_type": "stream",
          "name": "stdout",
          "text": [
            "4f0a42ffffe9\n"
          ]
        }
      ]
    },
    {
      "cell_type": "code",
      "metadata": {
        "id": "hnYTDprFpqih"
      },
      "source": [
        "# e constant\n",
        "e = 2.71828182845904\n",
        "# initial values\n",
        "i1 = -0.04\n",
        "i2 = -0.42\n",
        "# initial weights\n",
        "w1 = -2.5\n",
        "w2 = -1.5\n",
        "w3 = 0.6\n",
        "w4 = 0.4\n",
        "w5 = -0.1\n",
        "w6 = 2.4\n",
        "w7 = -2.2\n",
        "w8 = -1.5\n",
        "w9 = -5.2\n",
        "w10 = 3.7\n",
        "# bias\n",
        "b1 = -1.6\n",
        "b2 = 0.7\n",
        "b3 = 0\n",
        "b4 = 0\n",
        "b5 = 1\n",
        "# targets\n",
        "To1 = 0\n",
        "To2 = 1\n",
        "To3 = 0"
      ],
      "execution_count": null,
      "outputs": []
    },
    {
      "cell_type": "code",
      "metadata": {
        "colab": {
          "base_uri": "https://localhost:8080/"
        },
        "id": "Es4Ul7FDqsnV",
        "outputId": "df2b6137-e490-4bd0-b97c-0c277c2fab6c"
      },
      "source": [
        "# forward propagation\n",
        "h1 = 1/(1+e**(-(w1*i1 + w3*i2+b1)))\n",
        "print(\"h1: \" + str(h1))\n",
        "\n",
        "h2 = 1/(1+e**(-(w2*i1 + w4*i2+b2)))\n",
        "print(\"h2: \" + str(h2))\n",
        "\n",
        "o1exp = e**(h1*w5 + h2*w8 + b3)\n",
        "o2exp = e**(h1*w6 + h2*w9 + b4)\n",
        "o3exp = e**(h1*w7 + h2*w10 + b5)\n",
        "sum = o1exp + o2exp + o3exp\n",
        "\n",
        "o1 = (o1exp)/(sum)\n",
        "print(\"o1: \" + str(o1))\n",
        "\n",
        "o2 = (o2exp)/(sum)\n",
        "print(\"o2: \" + str(o2))\n",
        "\n",
        "o3 = (o3exp)/(sum)\n",
        "print(\"o3: \" + str(o3))\n",
        "\n",
        "prob = o1+o2+o3\n",
        "print (\"sum: \" + str(prob))\n"
      ],
      "execution_count": null,
      "outputs": [
        {
          "output_type": "stream",
          "name": "stdout",
          "text": [
            "h1: 0.1477951171065194\n",
            "h2: 0.6438239068707553\n",
            "o1: 0.01729537878688639\n",
            "o2: 0.0023112272973967564\n",
            "o3: 0.9803933939157168\n",
            "sum: 0.9999999999999999\n"
          ]
        }
      ]
    },
    {
      "cell_type": "code",
      "metadata": {
        "colab": {
          "base_uri": "https://localhost:8080/"
        },
        "id": "JBcuq5nluPMB",
        "outputId": "df599018-cfe7-4354-c660-f8bd44cc2a94"
      },
      "source": [
        "# Error\n",
        "n = 1/3\n",
        "Eo1 = To1*np.log(o1)\n",
        "print(\"Error o1: \" + str(Eo1))\n",
        "Eo2 = To2*np.log(o2)\n",
        "print(\"Error o2: \" + str(Eo2))\n",
        "Eo3 = To3*np.log(o3)\n",
        "print(\"Error o3: \" + str(Eo3))\n",
        "\n",
        "E = -1*(Eo1 + Eo2 + Eo3)\n",
        "print(\"Total Error: \" + str(E))"
      ],
      "execution_count": null,
      "outputs": [
        {
          "output_type": "stream",
          "name": "stdout",
          "text": [
            "Error o1: -0.0\n",
            "Error o2: -6.0699765979626665\n",
            "Error o3: -0.0\n",
            "Total Error: 6.0699765979626665\n"
          ]
        }
      ]
    },
    {
      "cell_type": "code",
      "metadata": {
        "id": "e0Vic461vM7m",
        "colab": {
          "base_uri": "https://localhost:8080/"
        },
        "outputId": "664f777b-d818-49ce-8427-29a9ee938c50"
      },
      "source": [
        "# Backpropagation\n",
        "n = 0.5\n",
        "\n",
        "grad_o1 = o1 - To1\n",
        "grad_o2 = o2 - To2\n",
        "grad_o3 = o3 - To3\n",
        "\n",
        "print(\"grad_o1: \"+str(grad_o1))\n",
        "print(\"grad_o2: \"+str(grad_o2))\n",
        "print(\"grad_o3: \"+str(grad_o3))\n",
        "\n",
        "grad_d1 = grad_o1\n",
        "grad_d2 = grad_o2\n",
        "grad_d3 = grad_o3\n",
        "print(\"grad_d1: \"+str(grad_d1))\n",
        "print(\"grad_d2: \"+str(grad_d2))\n",
        "\n",
        "grad_w5 = grad_d1*h1\n",
        "print(\"grad_w5: \"+str(grad_w5))\n",
        "\n",
        "w5_final = w5 - n*grad_w5\n",
        "\n",
        "grad_w6 = grad_d2*h1\n",
        "print(\"grad_w6: \"+str(grad_w6))\n",
        "w6_final = w6 - n*grad_w6\n",
        "\n",
        "grad_w7 = grad_d3*h1\n",
        "print(\"grad_w7: \"+str(grad_w7))\n",
        "w7_final = w7 - n*grad_w7\n",
        "\n",
        "grad_w8 = grad_d1*h2\n",
        "print(\"grad_w8: \"+str(grad_w8))\n",
        "w8_final = w8 - n*grad_w8\n",
        "\n",
        "grad_w9 = grad_d2*h2\n",
        "print(\"grad_w9: \"+str(grad_w9))\n",
        "w9_final = w9 - n*grad_w9\n",
        "\n",
        "grad_w10 = grad_d3*h2\n",
        "print(\"grad_w10: \"+str(grad_w10))\n",
        "w10_final = w10 - n*grad_w10  \n",
        "\n",
        "\n",
        "grad_h1 = w5*grad_d1 + w6*grad_d2 + w7*grad_d3 \n",
        "print(\"grad_h1: \"+str(grad_h1))\n",
        "grad_d11 = grad_h1*h1*(1-h1)\n",
        "print(\"grad_d11: \"+str(grad_d11))\n",
        "\n",
        "\n",
        "grad_h2 = w8*grad_d1 + w9*grad_d2 + w10*grad_d3\n",
        "print(\"grad_h2: \"+str(grad_h2))\n",
        "grad_d22 = grad_h2*h2*(1-h2)\n",
        "print(\"grad_d22: \"+str(grad_d22))\n",
        "\n",
        "grad_w1 = grad_d11*i1\n",
        "print(\"grad_w1: \"+str(grad_w1))\n",
        "w1_final = w1 - n*grad_w1\n",
        "\n",
        "grad_w2 = grad_d22*i1\n",
        "print(\"grad_w2: \"+str(grad_w2))\n",
        "w2_final = w2 - n*grad_w2\n",
        "\n",
        "grad_w3 = grad_d11*i2\n",
        "print(\"grad_w3: \"+str(grad_w3))\n",
        "w3_final = w3 - n*grad_w3\n",
        "\n",
        "grad_w4 = grad_d22*i2\n",
        "print(\"grad_w4: \"+str(grad_w4))\n",
        "w4_final = w4 - n*grad_w4\n",
        "\n",
        "print(\"w1+: \"+str(w1_final))\n",
        "print(\"w2+: \"+str(w2_final))\n",
        "print(\"w3+: \"+str(w3_final))\n",
        "print(\"w4+: \"+str(w4_final))\n",
        "print(\"w5+: \"+str(w5_final))\n",
        "print(\"w6+: \"+str(w6_final))\n",
        "print(\"w7+: \"+str(w7_final))\n",
        "print(\"w8+: \"+str(w8_final))\n",
        "print(\"w9+: \"+str(w9_final))\n",
        "print(\"w10+: \"+str(w10_final))"
      ],
      "execution_count": null,
      "outputs": [
        {
          "output_type": "stream",
          "name": "stdout",
          "text": [
            "grad_o1: 0.01729537878688639\n",
            "grad_o2: -0.9976887727026033\n",
            "grad_o3: 0.9803933939157168\n",
            "grad_d1: 0.01729537878688639\n",
            "grad_d2: -0.9976887727026033\n",
            "grad_w5: 0.0025561725332094855\n",
            "grad_w6: -0.14745352899744088\n",
            "grad_w7: 0.14489735646423138\n",
            "grad_w8: 0.01113517834138278\n",
            "grad_w9: -0.6423358834824789\n",
            "grad_w10: 0.6312007051410962\n",
            "grad_h1: -4.553048058979513\n",
            "grad_d11: -0.5734642363928043\n",
            "grad_h2: 8.78949410736136\n",
            "grad_d22: 2.0155600621008074\n",
            "grad_w1: 0.022938569455712172\n",
            "grad_w2: -0.0806224024840323\n",
            "grad_w3: 0.2408549792849778\n",
            "grad_w4: -0.8465352260823391\n",
            "w1+: -2.511469284727856\n",
            "w2+: -1.4596887987579839\n",
            "w3+: 0.4795725103575111\n",
            "w4+: 0.8232676130411696\n",
            "w5+: -0.10127808626660474\n",
            "w6+: 2.4737267644987204\n",
            "w7+: -2.272448678232116\n",
            "w8+: -1.5055675891706914\n",
            "w9+: -4.8788320582587605\n",
            "w10+: 3.384399647429452\n"
          ]
        }
      ]
    }
  ]
}