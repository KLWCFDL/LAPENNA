{
  "nbformat": 4,
  "nbformat_minor": 0,
  "metadata": {
    "colab": {
      "provenance": [],
      "collapsed_sections": [
        "GsHIQVWEw9ae"
      ]
    },
    "kernelspec": {
      "display_name": "Python 3",
      "name": "python3"
    }
  },
  "cells": [
    {
      "cell_type": "markdown",
      "metadata": {
        "id": "OJAStycAsSG3"
      },
      "source": [
        "#NumPy ![numpy1.jpg](data:image/jpeg;base64,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)\n",
        "NumPy is a python module that allows you to do numerical computing. It is important for its use to create tensors with as few as one line of code and avoid for loops."
      ]
    },
    {
      "cell_type": "code",
      "metadata": {
        "id": "dDHfe6Yiwv6F"
      },
      "source": [
        "import numpy as np"
      ],
      "execution_count": null,
      "outputs": []
    },
    {
      "cell_type": "markdown",
      "metadata": {
        "id": "22my2hwerRHZ"
      },
      "source": [
        "# Scalars\n",
        "This code creates a tensor with 0 dimensions, \"x\". \"x\" is a scalar that represents the value 12. \"x.ndim\" returns the number of dimensions of the tensor."
      ]
    },
    {
      "cell_type": "code",
      "metadata": {
        "colab": {
          "base_uri": "https://localhost:8080/"
        },
        "id": "LosmdqlmTCQs",
        "outputId": "333dacf3-2e14-4021-9618-42fef137ab93"
      },
      "source": [
        "x = np.array(12)\n",
        "print(x)\n",
        "print(\"The variable x is \"+str(x.ndim)+\" dimension(s).\")"
      ],
      "execution_count": null,
      "outputs": [
        {
          "output_type": "stream",
          "name": "stdout",
          "text": [
            "12\n",
            "The variable x is 0 dimension(s).\n"
          ]
        }
      ]
    },
    {
      "cell_type": "markdown",
      "metadata": {
        "id": "RLn_tk3ixpgK"
      },
      "source": [
        "#Vectors\n",
        "The numpy.array() function can also be used to create tensors with more dimensions. In this code, a vector is created"
      ]
    },
    {
      "cell_type": "code",
      "metadata": {
        "colab": {
          "base_uri": "https://localhost:8080/"
        },
        "id": "nbV49f3vTtK6",
        "outputId": "f0aff908-346b-40f6-fd10-6e96e0d8d8f6"
      },
      "source": [
        "x = np.array([1,2,3,4])\n",
        "print(x)\n",
        "print(\"The variable x is \"+str(x.ndim)+\" dimension(s).\")"
      ],
      "execution_count": null,
      "outputs": [
        {
          "output_type": "stream",
          "text": [
            "[1 2 3 4]\n",
            "The variable x is 1 dimension(s).\n"
          ],
          "name": "stdout"
        }
      ]
    },
    {
      "cell_type": "markdown",
      "metadata": {
        "id": "jHwunoNoyo2f"
      },
      "source": [
        "#Matrices\n",
        "Matrices can be created with the numpy.array() function by simply listing several vectors. Matrices are 2 dimensional tensors."
      ]
    },
    {
      "cell_type": "code",
      "metadata": {
        "colab": {
          "base_uri": "https://localhost:8080/"
        },
        "id": "HN5DYG3fxn1l",
        "outputId": "ff52be77-0029-4772-d6b3-5e20d809427e"
      },
      "source": [
        "x = np.array([[5, 78, 2, 34, 0],\n",
        "             [6, 79, 3, 35, 1],\n",
        "             [7, 80, 4, 36, 2]])\n",
        "print(x)\n",
        "print(\"The variable x is \"+str(x.ndim)+\" dimension(s).\")"
      ],
      "execution_count": null,
      "outputs": [
        {
          "output_type": "stream",
          "name": "stdout",
          "text": [
            "[[ 5 78  2 34  0]\n",
            " [ 6 79  3 35  1]\n",
            " [ 7 80  4 36  2]]\n",
            "The variable x is 2 dimension(s).\n"
          ]
        }
      ]
    },
    {
      "cell_type": "markdown",
      "metadata": {
        "id": "06tF0Sg10Cb9"
      },
      "source": [
        "#3D+ Tensors\n",
        "For tensors 3 dimensions or above, simply create lists and separate each dimension with brackets. For example, a 3 dimensional tensor will have a list of scalars between brackets \"[1,2,3,4]\", making up a vector, then a list of vectors between brackets \"[[1,2,3,4],[1,2,3,4],[1,2,3,4]]\", making up a matrix, which is then part of a list of other matrices \"[[[1,2,3,4],[1,2,3,4],[1,2,3,4]],[[1,2,3,4],[1,2,3,4],[1,2,3,4]]]\", making up a 3 dimensional tensor."
      ]
    },
    {
      "cell_type": "code",
      "metadata": {
        "colab": {
          "base_uri": "https://localhost:8080/"
        },
        "id": "NEJYaJQr1S9X",
        "outputId": "4dc67bb2-9a51-44fc-89db-905a338c6700"
      },
      "source": [
        "x = np.array([[[5, 78, 2, 34, 0],\n",
        "              [6, 79, 3, 35, 1],\n",
        "              [7, 80, 4, 36, 2]],\n",
        "              [[5, 78, 2, 34, 0],\n",
        "              [6, 79, 3, 35, 1],\n",
        "              [7, 80, 4, 36, 2]],\n",
        "              [[5, 78, 2, 34, 0],\n",
        "              [6, 79, 3, 35, 1],\n",
        "              [7, 80, 4, 36, 2]]])\n",
        "print(x)\n",
        "print(\"The variable x is \"+str(x.ndim)+\" dimension(s).\")"
      ],
      "execution_count": null,
      "outputs": [
        {
          "output_type": "stream",
          "text": [
            "[[[ 5 78  2 34  0]\n",
            "  [ 6 79  3 35  1]\n",
            "  [ 7 80  4 36  2]]\n",
            "\n",
            " [[ 5 78  2 34  0]\n",
            "  [ 6 79  3 35  1]\n",
            "  [ 7 80  4 36  2]]\n",
            "\n",
            " [[ 5 78  2 34  0]\n",
            "  [ 6 79  3 35  1]\n",
            "  [ 7 80  4 36  2]]]\n",
            "The variable x is 3 dimension(s).\n"
          ],
          "name": "stdout"
        }
      ]
    },
    {
      "cell_type": "markdown",
      "metadata": {
        "id": "Jngt15GQs_iq"
      },
      "source": [
        "#Reshaping Tensors\n",
        "Vectors are typically used as input data for a neural network. However, typical inputs, such as images, are 2D matrices and, if the image is color, 3D matrices (for the RGB values). Therefore, we must reshape the data before it is used. \".shape[#]\" returns the size of that dimension. We multiply the 3 dimensions of the matrix and use \".reshape[#]\" to create a vector."
      ]
    },
    {
      "cell_type": "code",
      "metadata": {
        "colab": {
          "base_uri": "https://localhost:8080/"
        },
        "id": "Dm2d77YF1eGk",
        "outputId": "6c539365-e429-4cbf-acce-b01934891877"
      },
      "source": [
        "train_set_x = np.array([[[5, 78, 2, 34, 0],\n",
        "                       [6, 79, 3, 35, 1],\n",
        "                       [7, 80, 4, 36, 2]],\n",
        "                       [[5, 78, 2, 34, 0],\n",
        "                       [6, 79, 3, 35, 1],\n",
        "                       [7, 80, 4, 36, 2]],\n",
        "                       [[5, 78, 2, 34, 0],\n",
        "                       [6, 79, 3, 35, 1],\n",
        "                       [7, 80, 4, 36, 2]]])\n",
        "print(train_set_x.shape[0])\n",
        "\n",
        "train_set_x_flatten = train_set_x.reshape(train_set_x.shape[1]*train_set_x.shape[2]*train_set_x.shape[0])\n",
        "\n",
        "print(train_set_x_flatten)\n",
        "\n",
        "print(train_set_x_flatten.ndim)\n"
      ],
      "execution_count": null,
      "outputs": [
        {
          "output_type": "stream",
          "text": [
            "3\n",
            "[ 5 78  2 34  0  6 79  3 35  1  7 80  4 36  2  5 78  2 34  0  6 79  3 35\n",
            "  1  7 80  4 36  2  5 78  2 34  0  6 79  3 35  1  7 80  4 36  2]\n",
            "1\n"
          ],
          "name": "stdout"
        }
      ]
    },
    {
      "cell_type": "markdown",
      "metadata": {
        "id": "edfx3el9wLAM"
      },
      "source": [
        "#Images\n",
        "If you are working with images, the pixel values are from 0 to 255. In order to standardize this we can divide by 255 to get values between 0 and 1."
      ]
    },
    {
      "cell_type": "code",
      "metadata": {
        "id": "bafEEUPAuoVz"
      },
      "source": [
        "train_set_x = train_set_x_flatten/255"
      ],
      "execution_count": null,
      "outputs": []
    },
    {
      "cell_type": "markdown",
      "metadata": {
        "id": "AFE0C7NBwsK5"
      },
      "source": [
        "#Activation Function\n",
        "The activation function takes the output from the nodes of the neural network and weights and biases and turns it into a useful output for the neural network. A common activation function is sigmoid, defined as 1/(1+e^(-x)). \"np.exp()\" is an exponential function, so np.exp(-z) is the same as e^(-z). The sigmoid function makes the output a value between 0 and 1."
      ]
    },
    {
      "cell_type": "code",
      "metadata": {
        "id": "Ke8RZZYiy4io"
      },
      "source": [
        "def sigmoid(z):\n",
        "  s = 1/(1+np.exp(-z))\n",
        "  return s"
      ],
      "execution_count": null,
      "outputs": []
    },
    {
      "cell_type": "markdown",
      "metadata": {
        "id": "72kFxBDc128_"
      },
      "source": [
        "#Matrix Multiplication\n",
        "\n",
        "To do matrix multiplication, the \"@\" operator is used. You can either call the \"@\" operator or numpy.matmul(), which both will return the same result. It only works with 2D-arrays\n",
        "\n"
      ]
    },
    {
      "cell_type": "code",
      "metadata": {
        "colab": {
          "base_uri": "https://localhost:8080/"
        },
        "id": "If1rAss12TX2",
        "outputId": "8ef71e96-3cf5-4384-e75f-c5787800f04a"
      },
      "source": [
        "a = np.array([[1, 0],\n",
        "              [0, 1]])\n",
        "\n",
        "b = np.array([[4, 1],\n",
        "              [2, 2]])\n",
        "\n",
        "c = np.matmul(a, b)\n",
        "d = a @ b\n",
        "\n",
        "c == d"
      ],
      "execution_count": null,
      "outputs": [
        {
          "output_type": "execute_result",
          "data": {
            "text/plain": [
              "array([[ True,  True],\n",
              "       [ True,  True]])"
            ]
          },
          "metadata": {
            "tags": []
          },
          "execution_count": 12
        }
      ]
    },
    {
      "cell_type": "code",
      "metadata": {
        "id": "-1Rizv4M26ft"
      },
      "source": [],
      "execution_count": null,
      "outputs": []
    },
    {
      "cell_type": "markdown",
      "metadata": {
        "id": "vhhunp-y2sEj"
      },
      "source": [
        "# Einsum Function\n",
        "The Einstein summation convention can be used to compute many multi-dimensional, linear algebraic array operationsin which the einsum() function provides a succinct way of representing these.\n",
        "\n",
        "Anything that involves combinations of multiplying and summing axes can be written using einsum. \n"
      ]
    },
    {
      "cell_type": "code",
      "metadata": {
        "colab": {
          "base_uri": "https://localhost:8080/"
        },
        "id": "ATL8P94Z9jWJ",
        "outputId": "f4b117b2-abb1-4c55-86f3-093be955d944"
      },
      "source": [
        "#matmul using einsum\n",
        "a = np.array([[1, 0],\n",
        "              [0, 1]])\n",
        "\n",
        "b = np.array([[4, 1],\n",
        "              [2, 2]])\n",
        "\n",
        "np.einsum('ij, jk ->ik', a, b)"
      ],
      "execution_count": null,
      "outputs": [
        {
          "output_type": "execute_result",
          "data": {
            "text/plain": [
              "array([[4, 1],\n",
              "       [2, 2]])"
            ]
          },
          "metadata": {
            "tags": []
          },
          "execution_count": 13
        }
      ]
    },
    {
      "cell_type": "code",
      "metadata": {
        "colab": {
          "base_uri": "https://localhost:8080/"
        },
        "id": "68j4gLZq94cy",
        "outputId": "c302cb7f-e250-40f3-ffe6-0704c1e0ab4d"
      },
      "source": [
        "#array axis summation\n",
        "np.einsum('ij->i', a)\n"
      ],
      "execution_count": null,
      "outputs": [
        {
          "output_type": "execute_result",
          "data": {
            "text/plain": [
              "array([1, 1])"
            ]
          },
          "metadata": {
            "tags": []
          },
          "execution_count": 14
        }
      ]
    },
    {
      "cell_type": "code",
      "metadata": {
        "colab": {
          "base_uri": "https://localhost:8080/"
        },
        "id": "_zJYVaKV-CgO",
        "outputId": "9e87fb9c-b617-498e-b088-0c3843100d8c"
      },
      "source": [
        "#tensor contraction\n",
        "A = np.linspace(0,26,27) #linear spaced vector from 0-26 with 27 values\n",
        "A.resize(3,3,3) #resized to a 3x3x3\n",
        "print(A)\n",
        "\n",
        "B = np.array([[ 0,  1,  2],\n",
        "              [ 3,  4,  5],\n",
        "              [ 6,  7,  8]]) #intialized a 3x3 matrix\n",
        "\n",
        "np.einsum('ijk,kl->ijl', A, B) #does tensor multiplication where it contracts along the k axis\n",
        "      # tensor multiplication dimensions"
      ],
      "execution_count": null,
      "outputs": [
        {
          "output_type": "stream",
          "text": [
            "[[[ 0.  1.  2.]\n",
            "  [ 3.  4.  5.]\n",
            "  [ 6.  7.  8.]]\n",
            "\n",
            " [[ 9. 10. 11.]\n",
            "  [12. 13. 14.]\n",
            "  [15. 16. 17.]]\n",
            "\n",
            " [[18. 19. 20.]\n",
            "  [21. 22. 23.]\n",
            "  [24. 25. 26.]]]\n"
          ],
          "name": "stdout"
        },
        {
          "output_type": "execute_result",
          "data": {
            "text/plain": [
              "array([[[ 15.,  18.,  21.],\n",
              "        [ 42.,  54.,  66.],\n",
              "        [ 69.,  90., 111.]],\n",
              "\n",
              "       [[ 96., 126., 156.],\n",
              "        [123., 162., 201.],\n",
              "        [150., 198., 246.]],\n",
              "\n",
              "       [[177., 234., 291.],\n",
              "        [204., 270., 336.],\n",
              "        [231., 306., 381.]]])"
            ]
          },
          "metadata": {
            "tags": []
          },
          "execution_count": 15
        }
      ]
    },
    {
      "cell_type": "code",
      "metadata": {
        "colab": {
          "base_uri": "https://localhost:8080/"
        },
        "id": "xeg1wsBzAda6",
        "outputId": "d89757c9-1e8b-42b0-a7e9-ed57036b9d4b"
      },
      "source": [
        "#another tensor contraction example\n",
        "a = np.arange(24).reshape(3,4,2)\n",
        "# print(a)\n",
        "# print('\\n')\n",
        "b = np.arange(24.).reshape(4,3,2)\n",
        "# print(b)\n",
        "\n",
        "np.einsum('ijk,jil->kl', a, b)\n",
        "\n"
      ],
      "execution_count": null,
      "outputs": [
        {
          "output_type": "execute_result",
          "data": {
            "text/plain": [
              "array([[1760., 1892.],\n",
              "       [1892., 2036.]])"
            ]
          },
          "metadata": {
            "tags": []
          },
          "execution_count": 18
        }
      ]
    },
    {
      "cell_type": "code",
      "metadata": {
        "colab": {
          "base_uri": "https://localhost:8080/"
        },
        "id": "OkFxsc0HBcOn",
        "outputId": "ead1b9ed-b7e4-484b-d163-daa0006563aa"
      },
      "source": [
        "np.einsum('mjk,jil->mikl', a, b)"
      ],
      "execution_count": null,
      "outputs": [
        {
          "output_type": "execute_result",
          "data": {
            "text/plain": [
              "array([[[[ 168.,  180.],\n",
              "         [ 204.,  220.]],\n",
              "\n",
              "        [[ 192.,  204.],\n",
              "         [ 236.,  252.]],\n",
              "\n",
              "        [[ 216.,  228.],\n",
              "         [ 268.,  284.]]],\n",
              "\n",
              "\n",
              "       [[[ 456.,  500.],\n",
              "         [ 492.,  540.]],\n",
              "\n",
              "        [[ 544.,  588.],\n",
              "         [ 588.,  636.]],\n",
              "\n",
              "        [[ 632.,  676.],\n",
              "         [ 684.,  732.]]],\n",
              "\n",
              "\n",
              "       [[[ 744.,  820.],\n",
              "         [ 780.,  860.]],\n",
              "\n",
              "        [[ 896.,  972.],\n",
              "         [ 940., 1020.]],\n",
              "\n",
              "        [[1048., 1124.],\n",
              "         [1100., 1180.]]]])"
            ]
          },
          "metadata": {
            "tags": []
          },
          "execution_count": 19
        }
      ]
    },
    {
      "cell_type": "markdown",
      "metadata": {
        "id": "GsHIQVWEw9ae"
      },
      "source": [
        "#Rpy2\n",
        "Rpy2 is a python module for running R code. You can use it by importing rpy2.robjects."
      ]
    },
    {
      "cell_type": "code",
      "metadata": {
        "id": "J2u0ipXT17fc"
      },
      "source": [
        "import rpy2.robjects as robjects"
      ],
      "execution_count": null,
      "outputs": []
    },
    {
      "cell_type": "code",
      "metadata": {
        "id": "YAIgAeHz8uvq"
      },
      "source": [
        "pi = robjects.r[\"pi\"]\n",
        "pi"
      ],
      "execution_count": null,
      "outputs": []
    },
    {
      "cell_type": "markdown",
      "metadata": {
        "id": "CatTs9M2SVUK"
      },
      "source": [
        "**robjects.r()** can be used to run R code. Simply input the R code as a string within the function."
      ]
    },
    {
      "cell_type": "code",
      "metadata": {
        "id": "RicR2Xsh82sj"
      },
      "source": [
        "robjects.r('''\n",
        "        # create a function `f`\n",
        "        f <- function(r, verbose=FALSE) {\n",
        "            if (verbose) {\n",
        "                cat(\"I am calling f().\\n\")\n",
        "            }\n",
        "            2 * pi * r\n",
        "        }\n",
        "        # call the function `f` with argument value 3\n",
        "        f(3)\n",
        "        ''')"
      ],
      "execution_count": null,
      "outputs": []
    },
    {
      "cell_type": "code",
      "metadata": {
        "id": "nG8AimHfk0F7"
      },
      "source": [],
      "execution_count": null,
      "outputs": []
    }
  ]
}